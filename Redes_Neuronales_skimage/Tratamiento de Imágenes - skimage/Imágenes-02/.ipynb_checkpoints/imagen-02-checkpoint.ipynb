{
 "cells": [
  {
   "cell_type": "code",
   "execution_count": null,
   "metadata": {},
   "outputs": [],
   "source": [
    "from skimage import io\n",
    "import pandas as pd\n",
    "img = io.imread('puppy.jpg')\n",
    "df = pd.DataFrame(img.flatten())\n",
    "filepath = 'valores_pixeles1.xlsx'\n",
    "df.to_excel(filepath, index=False)\n",
    "print(\"Archivo creado\")"
   ]
  }
 ],
 "metadata": {
  "kernelspec": {
   "display_name": "Python 3",
   "language": "python",
   "name": "python3"
  },
  "language_info": {
   "codemirror_mode": {
    "name": "ipython",
    "version": 3
   },
   "file_extension": ".py",
   "mimetype": "text/x-python",
   "name": "python",
   "nbconvert_exporter": "python",
   "pygments_lexer": "ipython3",
   "version": "3.8.3"
  }
 },
 "nbformat": 4,
 "nbformat_minor": 4
}
