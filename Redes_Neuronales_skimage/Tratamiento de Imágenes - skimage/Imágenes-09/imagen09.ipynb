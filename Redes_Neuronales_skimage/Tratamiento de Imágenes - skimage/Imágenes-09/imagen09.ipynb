{
 "cells": [
  {
   "cell_type": "code",
   "execution_count": 13,
   "metadata": {},
   "outputs": [],
   "source": [
    "# Importar librerías\n",
    "from skimage import io\n",
    "from skimage import color\n",
    "from pylab import *\n",
    "import numpy as np\n",
    "import pandas as pd\n",
    "\n",
    "# Esta librería permite ignorar los warnings en io.imsave\n",
    "import imageio.core.util\n",
    "def ignore_warnings(*args, **kwargs):\n",
    "    pass\n",
    "imageio.core.util._precision_warn = ignore_warnings\n",
    "\n",
    "# Leer imagen\n",
    "img = io.imread('puppy.jpg')\n",
    "# Convertir a YPbPr\n",
    "img_ypbpr= color.rgb2ypbpr(img)\n",
    "# Convertir de vuelta a RGB\n",
    "img_rgb= color.ypbpr2rgb(img_ypbpr)\n",
    "\n",
    "img_ypbpr = img_ypbpr/np.amax(img_ypbpr)\n",
    "img_ypbpr = np.clip(img_ypbpr, 0, 1)\n",
    "\n",
    "io.imsave(\"puppy_ypbpr.jpg\", img_ypbpr, check_contrast=False)"
   ]
  }
 ],
 "metadata": {
  "kernelspec": {
   "display_name": "Python 3",
   "language": "python",
   "name": "python3"
  },
  "language_info": {
   "codemirror_mode": {
    "name": "ipython",
    "version": 3
   },
   "file_extension": ".py",
   "mimetype": "text/x-python",
   "name": "python",
   "nbconvert_exporter": "python",
   "pygments_lexer": "ipython3",
   "version": "3.8.3"
  }
 },
 "nbformat": 4,
 "nbformat_minor": 4
}
