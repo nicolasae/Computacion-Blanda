{
 "cells": [
  {
   "cell_type": "code",
   "execution_count": 9,
   "metadata": {},
   "outputs": [
    {
     "name": "stdout",
     "output_type": "stream",
     "text": [
      "1.0 0.35863120006106697\n"
     ]
    }
   ],
   "source": [
    "from skimage import io\n",
    "from skimage.measure import compare_ssim as ssim\n",
    "\n",
    "import warnings\n",
    "warnings.filterwarnings(\"ignore\")\n",
    "\n",
    "img_original = io.imread('puppy.jpg')\n",
    "img_modified = io.imread('puppy_ypbpr.jpg')\n",
    "\n",
    "ssim_original = ssim(img_original, img_original, data_range=img_original.max() - img_original.min(), multichannel=True)\n",
    "\n",
    "ssim_different = ssim(img_original, img_modified, data_range=img_modified.max() - img_modified.min(), multichannel=True)\n",
    "\n",
    "print(ssim_original,ssim_different)"
   ]
  }
 ],
 "metadata": {
  "kernelspec": {
   "display_name": "Python 3",
   "language": "python",
   "name": "python3"
  },
  "language_info": {
   "codemirror_mode": {
    "name": "ipython",
    "version": 3
   },
   "file_extension": ".py",
   "mimetype": "text/x-python",
   "name": "python",
   "nbconvert_exporter": "python",
   "pygments_lexer": "ipython3",
   "version": "3.8.3"
  }
 },
 "nbformat": 4,
 "nbformat_minor": 4
}
