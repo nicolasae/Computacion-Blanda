{
 "cells": [
  {
   "cell_type": "code",
   "execution_count": 1,
   "metadata": {},
   "outputs": [
    {
     "ename": "SyntaxError",
     "evalue": "invalid syntax (<ipython-input-1-be4ce7b67ed4>, line 6)",
     "output_type": "error",
     "traceback": [
      "\u001b[1;36m  File \u001b[1;32m\"<ipython-input-1-be4ce7b67ed4>\"\u001b[1;36m, line \u001b[1;32m6\u001b[0m\n\u001b[1;33m    original.max() - img_original.min(), multichannel=True)\u001b[0m\n\u001b[1;37m    ^\u001b[0m\n\u001b[1;31mSyntaxError\u001b[0m\u001b[1;31m:\u001b[0m invalid syntax\n"
     ]
    }
   ],
   "source": [
    "from skimage import io\n",
    "from skimage.measure import compare_ssim as ssim\n",
    "img_original = io.imread('puppy.jpg')\n",
    "img_modified = io.imread('puppy_ypbpr.jpg')\n",
    "ssim_original = ssim(img_original, img_original, data_range=img_\n",
    "original.max() - img_original.min(), multichannel=True)\n",
    "ssim_different = ssim(img_original, img_modified, data_range=img_\n",
    "modified.max() - img_modified.min(), multichannel=True)\n",
    "print(ssim_original,ssim_different)"
   ]
  }
 ],
 "metadata": {
  "kernelspec": {
   "display_name": "Python 3",
   "language": "python",
   "name": "python3"
  },
  "language_info": {
   "codemirror_mode": {
    "name": "ipython",
    "version": 3
   },
   "file_extension": ".py",
   "mimetype": "text/x-python",
   "name": "python",
   "nbconvert_exporter": "python",
   "pygments_lexer": "ipython3",
   "version": "3.8.3"
  }
 },
 "nbformat": 4,
 "nbformat_minor": 4
}
